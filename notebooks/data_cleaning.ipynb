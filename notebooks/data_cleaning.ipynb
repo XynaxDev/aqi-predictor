{
 "cells": [
  {
   "cell_type": "code",
   "execution_count": 30,
   "id": "f0c997c8",
   "metadata": {},
   "outputs": [],
   "source": [
    "import pandas as pd\n",
    "import numpy as np\n",
    "import matplotlib.pyplot as plt\n",
    "import seaborn as sns\n",
    "\n",
    "import warnings\n",
    "warnings.filterwarnings('ignore')"
   ]
  },
  {
   "cell_type": "code",
   "execution_count": 31,
   "id": "ec0d0dd6",
   "metadata": {},
   "outputs": [],
   "source": [
    "df = pd.read_excel('../data/raw/AQI_hourly_city_level_sohna_2023.xlsx')"
   ]
  },
  {
   "cell_type": "code",
   "execution_count": 32,
   "id": "6f3940d0",
   "metadata": {},
   "outputs": [
    {
     "data": {
      "text/html": [
       "<div>\n",
       "<style scoped>\n",
       "    .dataframe tbody tr th:only-of-type {\n",
       "        vertical-align: middle;\n",
       "    }\n",
       "\n",
       "    .dataframe tbody tr th {\n",
       "        vertical-align: top;\n",
       "    }\n",
       "\n",
       "    .dataframe thead th {\n",
       "        text-align: right;\n",
       "    }\n",
       "</style>\n",
       "<table border=\"1\" class=\"dataframe\">\n",
       "  <thead>\n",
       "    <tr style=\"text-align: right;\">\n",
       "      <th></th>\n",
       "      <th>Days</th>\n",
       "      <th>00:00:00</th>\n",
       "      <th>01:00:00</th>\n",
       "      <th>02:00:00</th>\n",
       "      <th>03:00:00</th>\n",
       "      <th>04:00:00</th>\n",
       "      <th>05:00:00</th>\n",
       "      <th>06:00:00</th>\n",
       "      <th>07:00:00</th>\n",
       "      <th>08:00:00</th>\n",
       "      <th>...</th>\n",
       "      <th>14:00:00</th>\n",
       "      <th>15:00:00</th>\n",
       "      <th>16:00:00</th>\n",
       "      <th>17:00:00</th>\n",
       "      <th>18:00:00</th>\n",
       "      <th>19:00:00</th>\n",
       "      <th>20:00:00</th>\n",
       "      <th>21:00:00</th>\n",
       "      <th>22:00:00</th>\n",
       "      <th>23:00:00</th>\n",
       "    </tr>\n",
       "  </thead>\n",
       "  <tbody>\n",
       "    <tr>\n",
       "      <th>0</th>\n",
       "      <td>1</td>\n",
       "      <td>265</td>\n",
       "      <td>211.0</td>\n",
       "      <td>204.0</td>\n",
       "      <td>191</td>\n",
       "      <td>186.0</td>\n",
       "      <td>184.0</td>\n",
       "      <td>161.0</td>\n",
       "      <td>143</td>\n",
       "      <td>151.0</td>\n",
       "      <td>...</td>\n",
       "      <td>150.0</td>\n",
       "      <td>124.0</td>\n",
       "      <td>128</td>\n",
       "      <td>122.0</td>\n",
       "      <td>111.0</td>\n",
       "      <td>111.0</td>\n",
       "      <td>180.0</td>\n",
       "      <td>240</td>\n",
       "      <td>260.0</td>\n",
       "      <td>280.0</td>\n",
       "    </tr>\n",
       "    <tr>\n",
       "      <th>1</th>\n",
       "      <td>2</td>\n",
       "      <td>313</td>\n",
       "      <td>332.0</td>\n",
       "      <td>327.0</td>\n",
       "      <td>300</td>\n",
       "      <td>293.0</td>\n",
       "      <td>278.0</td>\n",
       "      <td>270.0</td>\n",
       "      <td>272</td>\n",
       "      <td>274.0</td>\n",
       "      <td>...</td>\n",
       "      <td>399.0</td>\n",
       "      <td>390.0</td>\n",
       "      <td>384</td>\n",
       "      <td>392.0</td>\n",
       "      <td>378.0</td>\n",
       "      <td>349.0</td>\n",
       "      <td>349.0</td>\n",
       "      <td>350</td>\n",
       "      <td>339.0</td>\n",
       "      <td>331.0</td>\n",
       "    </tr>\n",
       "    <tr>\n",
       "      <th>2</th>\n",
       "      <td>3</td>\n",
       "      <td>328</td>\n",
       "      <td>302.0</td>\n",
       "      <td>316.0</td>\n",
       "      <td>323</td>\n",
       "      <td>340.0</td>\n",
       "      <td>346.0</td>\n",
       "      <td>353.0</td>\n",
       "      <td>363</td>\n",
       "      <td>370.0</td>\n",
       "      <td>...</td>\n",
       "      <td>418.0</td>\n",
       "      <td>404.0</td>\n",
       "      <td>394</td>\n",
       "      <td>374.0</td>\n",
       "      <td>360.0</td>\n",
       "      <td>381.0</td>\n",
       "      <td>374.0</td>\n",
       "      <td>383</td>\n",
       "      <td>404.0</td>\n",
       "      <td>397.0</td>\n",
       "    </tr>\n",
       "    <tr>\n",
       "      <th>3</th>\n",
       "      <td>4</td>\n",
       "      <td>376</td>\n",
       "      <td>355.0</td>\n",
       "      <td>343.0</td>\n",
       "      <td>347</td>\n",
       "      <td>332.0</td>\n",
       "      <td>337.0</td>\n",
       "      <td>327.0</td>\n",
       "      <td>304</td>\n",
       "      <td>275.0</td>\n",
       "      <td>...</td>\n",
       "      <td>309.0</td>\n",
       "      <td>293.0</td>\n",
       "      <td>293</td>\n",
       "      <td>285.0</td>\n",
       "      <td>282.0</td>\n",
       "      <td>275.0</td>\n",
       "      <td>300.0</td>\n",
       "      <td>328</td>\n",
       "      <td>372.0</td>\n",
       "      <td>377.0</td>\n",
       "    </tr>\n",
       "    <tr>\n",
       "      <th>4</th>\n",
       "      <td>5</td>\n",
       "      <td>388</td>\n",
       "      <td>376.0</td>\n",
       "      <td>378.0</td>\n",
       "      <td>375</td>\n",
       "      <td>357.0</td>\n",
       "      <td>326.0</td>\n",
       "      <td>283.0</td>\n",
       "      <td>203</td>\n",
       "      <td>157.0</td>\n",
       "      <td>...</td>\n",
       "      <td>300.0</td>\n",
       "      <td>292.0</td>\n",
       "      <td>293</td>\n",
       "      <td>298.0</td>\n",
       "      <td>318.0</td>\n",
       "      <td>256.0</td>\n",
       "      <td>340.0</td>\n",
       "      <td>359</td>\n",
       "      <td>390.0</td>\n",
       "      <td>396.0</td>\n",
       "    </tr>\n",
       "  </tbody>\n",
       "</table>\n",
       "<p>5 rows × 25 columns</p>\n",
       "</div>"
      ],
      "text/plain": [
       "   Days  00:00:00  01:00:00  02:00:00  03:00:00  04:00:00  05:00:00  06:00:00  \\\n",
       "0     1       265     211.0     204.0       191     186.0     184.0     161.0   \n",
       "1     2       313     332.0     327.0       300     293.0     278.0     270.0   \n",
       "2     3       328     302.0     316.0       323     340.0     346.0     353.0   \n",
       "3     4       376     355.0     343.0       347     332.0     337.0     327.0   \n",
       "4     5       388     376.0     378.0       375     357.0     326.0     283.0   \n",
       "\n",
       "   07:00:00  08:00:00  ...  14:00:00  15:00:00  16:00:00  17:00:00  18:00:00  \\\n",
       "0       143     151.0  ...     150.0     124.0       128     122.0     111.0   \n",
       "1       272     274.0  ...     399.0     390.0       384     392.0     378.0   \n",
       "2       363     370.0  ...     418.0     404.0       394     374.0     360.0   \n",
       "3       304     275.0  ...     309.0     293.0       293     285.0     282.0   \n",
       "4       203     157.0  ...     300.0     292.0       293     298.0     318.0   \n",
       "\n",
       "   19:00:00  20:00:00  21:00:00  22:00:00  23:00:00  \n",
       "0     111.0     180.0       240     260.0     280.0  \n",
       "1     349.0     349.0       350     339.0     331.0  \n",
       "2     381.0     374.0       383     404.0     397.0  \n",
       "3     275.0     300.0       328     372.0     377.0  \n",
       "4     256.0     340.0       359     390.0     396.0  \n",
       "\n",
       "[5 rows x 25 columns]"
      ]
     },
     "execution_count": 32,
     "metadata": {},
     "output_type": "execute_result"
    }
   ],
   "source": [
    "df.head()"
   ]
  },
  {
   "cell_type": "code",
   "execution_count": 33,
   "id": "0983c039",
   "metadata": {},
   "outputs": [
    {
     "data": {
      "text/plain": [
       "Days          int64\n",
       "00:00:00      int64\n",
       "01:00:00    float64\n",
       "02:00:00    float64\n",
       "03:00:00      int64\n",
       "04:00:00    float64\n",
       "05:00:00    float64\n",
       "06:00:00    float64\n",
       "07:00:00      int64\n",
       "08:00:00    float64\n",
       "09:00:00      int64\n",
       "10:00:00    float64\n",
       "11:00:00      int64\n",
       "12:00:00      int64\n",
       "13:00:00    float64\n",
       "14:00:00    float64\n",
       "15:00:00    float64\n",
       "16:00:00      int64\n",
       "17:00:00    float64\n",
       "18:00:00    float64\n",
       "19:00:00    float64\n",
       "20:00:00    float64\n",
       "21:00:00      int64\n",
       "22:00:00    float64\n",
       "23:00:00    float64\n",
       "dtype: object"
      ]
     },
     "execution_count": 33,
     "metadata": {},
     "output_type": "execute_result"
    }
   ],
   "source": [
    "df.dtypes"
   ]
  },
  {
   "cell_type": "code",
   "execution_count": 34,
   "id": "bd8659bc",
   "metadata": {},
   "outputs": [
    {
     "data": {
      "text/plain": [
       "Days        0\n",
       "00:00:00    0\n",
       "01:00:00    1\n",
       "02:00:00    1\n",
       "03:00:00    0\n",
       "04:00:00    1\n",
       "05:00:00    1\n",
       "06:00:00    1\n",
       "07:00:00    0\n",
       "08:00:00    1\n",
       "09:00:00    0\n",
       "10:00:00    1\n",
       "11:00:00    0\n",
       "12:00:00    0\n",
       "13:00:00    1\n",
       "14:00:00    2\n",
       "15:00:00    3\n",
       "16:00:00    0\n",
       "17:00:00    1\n",
       "18:00:00    3\n",
       "19:00:00    2\n",
       "20:00:00    1\n",
       "21:00:00    0\n",
       "22:00:00    1\n",
       "23:00:00    1\n",
       "dtype: int64"
      ]
     },
     "execution_count": 34,
     "metadata": {},
     "output_type": "execute_result"
    }
   ],
   "source": [
    "# checking for missing values\n",
    "df.isnull().sum()"
   ]
  },
  {
   "cell_type": "code",
   "execution_count": 35,
   "id": "866a75f0",
   "metadata": {},
   "outputs": [],
   "source": [
    "# treating missing values with mean\n",
    "df = df.fillna(df.mean())"
   ]
  },
  {
   "cell_type": "code",
   "execution_count": 36,
   "id": "fd338e86",
   "metadata": {},
   "outputs": [
    {
     "data": {
      "text/plain": [
       "Days        0\n",
       "00:00:00    0\n",
       "01:00:00    0\n",
       "02:00:00    0\n",
       "03:00:00    0\n",
       "04:00:00    0\n",
       "05:00:00    0\n",
       "06:00:00    0\n",
       "07:00:00    0\n",
       "08:00:00    0\n",
       "09:00:00    0\n",
       "10:00:00    0\n",
       "11:00:00    0\n",
       "12:00:00    0\n",
       "13:00:00    0\n",
       "14:00:00    0\n",
       "15:00:00    0\n",
       "16:00:00    0\n",
       "17:00:00    0\n",
       "18:00:00    0\n",
       "19:00:00    0\n",
       "20:00:00    0\n",
       "21:00:00    0\n",
       "22:00:00    0\n",
       "23:00:00    0\n",
       "dtype: int64"
      ]
     },
     "execution_count": 36,
     "metadata": {},
     "output_type": "execute_result"
    }
   ],
   "source": [
    "# now again checking for missing values\n",
    "df.isnull().sum()"
   ]
  },
  {
   "cell_type": "code",
   "execution_count": 37,
   "id": "64cdd395",
   "metadata": {},
   "outputs": [
    {
     "data": {
      "text/plain": [
       "np.int64(0)"
      ]
     },
     "execution_count": 37,
     "metadata": {},
     "output_type": "execute_result"
    }
   ],
   "source": [
    "# checking for duplicated values\n",
    "df.duplicated().sum()"
   ]
  },
  {
   "cell_type": "code",
   "execution_count": 38,
   "id": "0f205f41",
   "metadata": {},
   "outputs": [
    {
     "name": "stdout",
     "output_type": "stream",
     "text": [
      "Validating Days (1-365) succeeded.\n"
     ]
    }
   ],
   "source": [
    "if not (df['Days'].between(1, 365).all()):\n",
    "    print(f\"{'Days'} out of range (1-365):\")\n",
    "    print(df[~df['Days'].between(1, 365)])\n",
    "else:\n",
    "    print(f\"Validating {'Days'} (1-365) succeeded.\")"
   ]
  },
  {
   "cell_type": "code",
   "execution_count": 39,
   "id": "dad04990",
   "metadata": {},
   "outputs": [
    {
     "name": "stdout",
     "output_type": "stream",
     "text": [
      "Yes, all columns are numeric!\n",
      "Yes, all columns are numeric!\n",
      "Yes, all columns are numeric!\n",
      "Yes, all columns are numeric!\n",
      "Yes, all columns are numeric!\n",
      "Yes, all columns are numeric!\n",
      "Yes, all columns are numeric!\n",
      "Yes, all columns are numeric!\n",
      "Yes, all columns are numeric!\n",
      "Yes, all columns are numeric!\n",
      "Yes, all columns are numeric!\n",
      "Yes, all columns are numeric!\n",
      "Yes, all columns are numeric!\n",
      "Yes, all columns are numeric!\n",
      "Yes, all columns are numeric!\n",
      "Yes, all columns are numeric!\n",
      "Yes, all columns are numeric!\n",
      "Yes, all columns are numeric!\n",
      "Yes, all columns are numeric!\n",
      "Yes, all columns are numeric!\n",
      "Yes, all columns are numeric!\n",
      "Yes, all columns are numeric!\n",
      "Yes, all columns are numeric!\n",
      "Yes, all columns are numeric!\n"
     ]
    }
   ],
   "source": [
    "# check if all the aqi cols have numbers or not\n",
    "aqi_columns = df.columns[1:] \n",
    "for col in aqi_columns:\n",
    "    if pd.api.types.is_numeric_dtype(df[col]):\n",
    "        print(\"Yes, all columns are numeric!\")\n",
    "        "
   ]
  },
  {
   "cell_type": "code",
   "execution_count": 40,
   "id": "b9587586",
   "metadata": {},
   "outputs": [
    {
     "data": {
      "text/plain": [
       "Days        0\n",
       "00:00:00    0\n",
       "01:00:00    0\n",
       "02:00:00    0\n",
       "03:00:00    0\n",
       "04:00:00    0\n",
       "05:00:00    0\n",
       "06:00:00    0\n",
       "07:00:00    0\n",
       "08:00:00    0\n",
       "09:00:00    0\n",
       "10:00:00    0\n",
       "11:00:00    0\n",
       "12:00:00    0\n",
       "13:00:00    0\n",
       "14:00:00    0\n",
       "15:00:00    0\n",
       "16:00:00    0\n",
       "17:00:00    0\n",
       "18:00:00    0\n",
       "19:00:00    0\n",
       "20:00:00    0\n",
       "21:00:00    0\n",
       "22:00:00    0\n",
       "23:00:00    0\n",
       "dtype: int64"
      ]
     },
     "execution_count": 40,
     "metadata": {},
     "output_type": "execute_result"
    }
   ],
   "source": [
    "df.isnull().sum()"
   ]
  },
  {
   "cell_type": "code",
   "execution_count": 43,
   "id": "759f9909",
   "metadata": {},
   "outputs": [],
   "source": [
    "# now extracting the cleaned data to preprocessed dir\n",
    "df.to_csv(\"../data/processed/cleaned_aqi_sohna_hourly.csv\", index=False)"
   ]
  }
 ],
 "metadata": {
  "kernelspec": {
   "display_name": "aqienv",
   "language": "python",
   "name": "python3"
  },
  "language_info": {
   "codemirror_mode": {
    "name": "ipython",
    "version": 3
   },
   "file_extension": ".py",
   "mimetype": "text/x-python",
   "name": "python",
   "nbconvert_exporter": "python",
   "pygments_lexer": "ipython3",
   "version": "3.13.2"
  }
 },
 "nbformat": 4,
 "nbformat_minor": 5
}
